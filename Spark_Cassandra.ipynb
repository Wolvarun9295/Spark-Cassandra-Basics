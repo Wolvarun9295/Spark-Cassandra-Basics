{
 "cells": [
  {
   "cell_type": "markdown",
   "metadata": {},
   "source": [
    "## Basic Cassandra Operations using Python"
   ]
  },
  {
   "cell_type": "code",
   "execution_count": 111,
   "metadata": {},
   "outputs": [],
   "source": [
    "from cassandra.cluster import Cluster\n",
    "import time"
   ]
  },
  {
   "cell_type": "code",
   "execution_count": 112,
   "metadata": {},
   "outputs": [],
   "source": [
    "cluster = Cluster(['localhost'])"
   ]
  },
  {
   "cell_type": "code",
   "execution_count": 113,
   "metadata": {},
   "outputs": [
    {
     "name": "stdout",
     "output_type": "stream",
     "text": [
      "Connection to Cassandra Cluster Successfull!\n"
     ]
    }
   ],
   "source": [
    "try:\n",
    "    session = cluster.connect()\n",
    "    print(\"Connection to Cassandra Cluster Successfull!\")\n",
    "except:\n",
    "    print(\"Something went wrong!\")"
   ]
  },
  {
   "cell_type": "markdown",
   "metadata": {},
   "source": [
    "### Creating Keyspace"
   ]
  },
  {
   "cell_type": "code",
   "execution_count": 114,
   "metadata": {},
   "outputs": [],
   "source": [
    "keyspace=\"empdb\""
   ]
  },
  {
   "cell_type": "code",
   "execution_count": 115,
   "metadata": {},
   "outputs": [
    {
     "name": "stdout",
     "output_type": "stream",
     "text": [
      "empdb Keyspace Created Successfully!\n"
     ]
    }
   ],
   "source": [
    "create_keyspace=\"CREATE KEYSPACE IF NOT EXISTS {} WITH REPLICATION = {{'class':'SimpleStrategy','replication_factor':1}}\".format(keyspace)\n",
    "session.execute(create_keyspace)\n",
    "print(\"{} Keyspace Created Successfully!\".format(keyspace))"
   ]
  },
  {
   "cell_type": "code",
   "execution_count": 116,
   "metadata": {},
   "outputs": [
    {
     "name": "stdout",
     "output_type": "stream",
     "text": [
      "Using empdb Keyspace\n"
     ]
    }
   ],
   "source": [
    "session.set_keyspace('{}'.format(keyspace))\n",
    "print(\"Using {} Keyspace\".format(keyspace))"
   ]
  },
  {
   "cell_type": "markdown",
   "metadata": {},
   "source": [
    "### Creating Table"
   ]
  },
  {
   "cell_type": "code",
   "execution_count": 117,
   "metadata": {},
   "outputs": [],
   "source": [
    "table=\"emp\""
   ]
  },
  {
   "cell_type": "code",
   "execution_count": 118,
   "metadata": {},
   "outputs": [
    {
     "name": "stdout",
     "output_type": "stream",
     "text": [
      "emp table created Successfully!\n"
     ]
    }
   ],
   "source": [
    "create_table = \"CREATE TABLE {}({}_id int PRIMARY KEY,{}_name text, {}_city text, {}_phone varint)\".format(table,table,table,table,table)\n",
    "session.execute(create_table)\n",
    "print(\"{} table created Successfully!\".format(table))"
   ]
  },
  {
   "cell_type": "markdown",
   "metadata": {},
   "source": [
    "### Inserting data into table"
   ]
  },
  {
   "cell_type": "code",
   "execution_count": 119,
   "metadata": {},
   "outputs": [
    {
     "name": "stdout",
     "output_type": "stream",
     "text": [
      "Data inserted into emp table Successfully!\n"
     ]
    }
   ],
   "source": [
    "insert_into_table = \"INSERT INTO {}({}_id, {}_name, {}_city, {}_phone) VALUES(1, 'Varun', 'Nagpur', 7875121904)\".format(table,table,table,table,table)\n",
    "session.execute(insert_into_table)\n",
    "print(\"Data inserted into {} table Successfully!\".format(table))"
   ]
  },
  {
   "cell_type": "code",
   "execution_count": 120,
   "metadata": {},
   "outputs": [
    {
     "name": "stdout",
     "output_type": "stream",
     "text": [
      "Data inserted into emp table Successfully!\n"
     ]
    }
   ],
   "source": [
    "insert_into_table = \"INSERT INTO {}({}_id, {}_name, {}_city, {}_phone) VALUES(2, 'Sandesh', 'Aurangabad', 8793753269)\".format(table,table,table,table,table)\n",
    "session.execute(insert_into_table)\n",
    "print(\"Data inserted into {} table Successfully!\".format(table))"
   ]
  },
  {
   "cell_type": "markdown",
   "metadata": {},
   "source": [
    "### Reading data from table"
   ]
  },
  {
   "cell_type": "code",
   "execution_count": 121,
   "metadata": {},
   "outputs": [
    {
     "name": "stdout",
     "output_type": "stream",
     "text": [
      "Row(emp_id=1, emp_city='Nagpur', emp_name='Varun', emp_phone=7875121904)\n",
      "Row(emp_id=2, emp_city='Aurangabad', emp_name='Sandesh', emp_phone=8793753269)\n"
     ]
    }
   ],
   "source": [
    "read_from_table = \"SELECT * FROM {}\".format(table)\n",
    "rows = session.execute(read_from_table)\n",
    "for row in rows:\n",
    "    print(row)"
   ]
  },
  {
   "cell_type": "markdown",
   "metadata": {},
   "source": [
    "### Updating data in table"
   ]
  },
  {
   "cell_type": "code",
   "execution_count": 122,
   "metadata": {},
   "outputs": [
    {
     "name": "stdout",
     "output_type": "stream",
     "text": [
      "Table emp updated Successfully!\n"
     ]
    }
   ],
   "source": [
    "update_table = \"UPDATE {} SET {}_city='Pune' WHERE {}_id=1\".format(table,table,table)\n",
    "session.execute(update_table)\n",
    "print(\"Table {} updated Successfully!\".format(table))"
   ]
  },
  {
   "cell_type": "markdown",
   "metadata": {},
   "source": [
    "### Deleting data from table"
   ]
  },
  {
   "cell_type": "code",
   "execution_count": 123,
   "metadata": {},
   "outputs": [
    {
     "name": "stdout",
     "output_type": "stream",
     "text": [
      "Delete operation on emp table done Successfully!\n"
     ]
    }
   ],
   "source": [
    "delete_from_table = \"DELETE {}_phone FROM {} WHERE {}_id=2\".format(table,table,table)\n",
    "session.execute(delete_from_table)\n",
    "print(\"Delete operation on {} table done Successfully!\".format(table))"
   ]
  },
  {
   "cell_type": "markdown",
   "metadata": {},
   "source": [
    "### Truncating data from table"
   ]
  },
  {
   "cell_type": "code",
   "execution_count": 124,
   "metadata": {},
   "outputs": [
    {
     "name": "stdout",
     "output_type": "stream",
     "text": [
      "All data deleted from emp table Successfully!\n"
     ]
    }
   ],
   "source": [
    "truncate_table = \"TRUNCATE {}\".format(table)\n",
    "session.execute(truncate_table)\n",
    "print(\"All data deleted from {} table Successfully!\".format(table))"
   ]
  },
  {
   "cell_type": "markdown",
   "metadata": {},
   "source": [
    " ## Basic Cassandra Operations using PySpark"
   ]
  },
  {
   "cell_type": "code",
   "execution_count": 125,
   "metadata": {},
   "outputs": [],
   "source": [
    "import findspark\n",
    "from pyspark.sql import SparkSession"
   ]
  },
  {
   "cell_type": "code",
   "execution_count": 126,
   "metadata": {},
   "outputs": [],
   "source": [
    "findspark.init(\"/usr/local/spark\")"
   ]
  },
  {
   "cell_type": "markdown",
   "metadata": {},
   "source": [
    "### Building SparkSession"
   ]
  },
  {
   "cell_type": "code",
   "execution_count": 127,
   "metadata": {},
   "outputs": [],
   "source": [
    "spark = SparkSession.builder.getOrCreate()"
   ]
  },
  {
   "cell_type": "markdown",
   "metadata": {},
   "source": [
    "### Reading CSV file into PySpark Dataframe"
   ]
  },
  {
   "cell_type": "code",
   "execution_count": 128,
   "metadata": {},
   "outputs": [
    {
     "name": "stdout",
     "output_type": "stream",
     "text": [
      "+------+--------+--------+----------+\n",
      "|emp_id|emp_name|emp_city| emp_phone|\n",
      "+------+--------+--------+----------+\n",
      "|     1|   Varun|  Nagpur|7875121904|\n",
      "+------+--------+--------+----------+\n",
      "\n"
     ]
    }
   ],
   "source": [
    "df = spark.read.csv(\"/home/ubuntu/empSample.csv\", header=\"True\")\n",
    "df.show()"
   ]
  },
  {
   "cell_type": "markdown",
   "metadata": {},
   "source": [
    "### Writing PySpark Dataframe into Cassandra"
   ]
  },
  {
   "cell_type": "code",
   "execution_count": 129,
   "metadata": {},
   "outputs": [
    {
     "name": "stdout",
     "output_type": "stream",
     "text": [
      "Successfully inserted PySpark Dataframe into Cassandra!\n"
     ]
    }
   ],
   "source": [
    "df.write.format(\"org.apache.spark.sql.cassandra\").mode(\"append\").options(table=table, keyspace=keyspace).save()\n",
    "print(\"Successfully inserted PySpark Dataframe into Cassandra!\")"
   ]
  },
  {
   "cell_type": "markdown",
   "metadata": {},
   "source": [
    "### Reading data from Cassandra using PySpark"
   ]
  },
  {
   "cell_type": "code",
   "execution_count": 130,
   "metadata": {},
   "outputs": [
    {
     "name": "stdout",
     "output_type": "stream",
     "text": [
      "+------+--------+--------+----------+\n",
      "|emp_id|emp_city|emp_name| emp_phone|\n",
      "+------+--------+--------+----------+\n",
      "|     1|  Nagpur|   Varun|7875121904|\n",
      "+------+--------+--------+----------+\n",
      "\n"
     ]
    }
   ],
   "source": [
    "cas_df = spark.read.format(\"org.apache.spark.sql.cassandra\").options(table=table, keyspace=keyspace).load()\n",
    "cas_df.show()"
   ]
  },
  {
   "cell_type": "markdown",
   "metadata": {},
   "source": [
    "### Deleting table"
   ]
  },
  {
   "cell_type": "code",
   "execution_count": 131,
   "metadata": {},
   "outputs": [
    {
     "name": "stdout",
     "output_type": "stream",
     "text": [
      "emp table deleted Successfully!\n"
     ]
    }
   ],
   "source": [
    "delete_table = \"DROP table {}\".format(table)\n",
    "session.execute(delete_table)\n",
    "print(\"{} table deleted Successfully!\".format(table))"
   ]
  },
  {
   "cell_type": "markdown",
   "metadata": {},
   "source": [
    "### Deleting Keyspace"
   ]
  },
  {
   "cell_type": "code",
   "execution_count": 132,
   "metadata": {},
   "outputs": [
    {
     "name": "stdout",
     "output_type": "stream",
     "text": [
      "empdb Keyspace deleted Successfully!\n"
     ]
    }
   ],
   "source": [
    "delete_keyspace=\"DROP KEYSPACE IF EXISTS {}\".format(keyspace)\n",
    "session.execute(delete_keyspace)\n",
    "print(\"{} Keyspace deleted Successfully!\".format(keyspace))"
   ]
  },
  {
   "cell_type": "markdown",
   "metadata": {},
   "source": [
    "### Shutting down Cassandra Cluster"
   ]
  },
  {
   "cell_type": "code",
   "execution_count": 133,
   "metadata": {},
   "outputs": [
    {
     "name": "stdout",
     "output_type": "stream",
     "text": [
      "Shutting down Cluster...\n",
      "Cluster Shutdown!\n"
     ]
    }
   ],
   "source": [
    "print(\"Shutting down Cluster...\")\n",
    "time.sleep(5)\n",
    "cluster.shutdown()\n",
    "print(\"Cluster Shutdown!\")"
   ]
  },
  {
   "cell_type": "markdown",
   "metadata": {},
   "source": [
    "### Stopping the SparkSession"
   ]
  },
  {
   "cell_type": "code",
   "execution_count": 134,
   "metadata": {},
   "outputs": [
    {
     "name": "stdout",
     "output_type": "stream",
     "text": [
      "SparkSession Stopped Successfully!\n"
     ]
    }
   ],
   "source": [
    "spark.stop()\n",
    "print(\"SparkSession Stopped Successfully!\")"
   ]
  }
 ],
 "metadata": {
  "kernelspec": {
   "display_name": "Python 3",
   "language": "python",
   "name": "python3"
  },
  "language_info": {
   "codemirror_mode": {
    "name": "ipython",
    "version": 3
   },
   "file_extension": ".py",
   "mimetype": "text/x-python",
   "name": "python",
   "nbconvert_exporter": "python",
   "pygments_lexer": "ipython3",
   "version": "3.6.9"
  }
 },
 "nbformat": 4,
 "nbformat_minor": 4
}
